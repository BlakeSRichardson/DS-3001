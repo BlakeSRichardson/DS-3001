{
 "cells": [
  {
   "cell_type": "markdown",
   "metadata": {
    "id": "hr7vQmzi-MrE"
   },
   "source": [
    "# Primitive data types\n"
   ]
  },
  {
   "cell_type": "markdown",
   "metadata": {},
   "source": [
    "[![Open In Colab](https://colab.research.google.com/assets/colab-badge.svg)](https://colab.research.google.com/drive/1Ts5wZC0Z4C8K-ym3AU7K-Ujl1wcRYSaV?usp=sharing)"
   ]
  },
  {
   "cell_type": "markdown",
   "metadata": {
    "id": "sJXPLA8DtwbL"
   },
   "source": [
    "## [Exercises] Strings\n",
    "\n",
    "Complete the following exercises in the cells provided."
   ]
  },
  {
   "cell_type": "markdown",
   "metadata": {
    "id": "TcK2cUCLuaJr"
   },
   "source": [
    "1: Create a new string variable called \"first_name\" and set it equal to your first name. When you're done, print it out."
   ]
  },
  {
   "cell_type": "code",
   "execution_count": null,
   "metadata": {
    "id": "5zKRGRf8uZkk"
   },
   "outputs": [],
   "source": []
  },
  {
   "cell_type": "markdown",
   "metadata": {
    "id": "-JSnpUUqn1my"
   },
   "source": [
    "2: Create another new string variable called \"last_name\" and set it equal to your last name. When you're done, print it out."
   ]
  },
  {
   "cell_type": "code",
   "execution_count": null,
   "metadata": {
    "id": "jwUbtUMDn77n"
   },
   "outputs": [],
   "source": []
  },
  {
   "cell_type": "markdown",
   "metadata": {
    "id": "fP2MEzCfn8wD"
   },
   "source": [
    "3: **Using your first_name and last_name variables**, create a new variable (called full_name) that contains your full name formatted as \"First Last\". Print this variable out when you're done!\n",
    "\n",
    "_This must be completed without just typing last_name = \"Yourfirstname Yourlastname\"! Use your existing variables._"
   ]
  },
  {
   "cell_type": "code",
   "execution_count": null,
   "metadata": {
    "id": "P-k-63WmoYgM"
   },
   "outputs": [],
   "source": []
  },
  {
   "cell_type": "markdown",
   "metadata": {
    "id": "MuTLNrp0op-a"
   },
   "source": [
    "4: Find the combined length of the following strings, string_1 and string_2, provided for you below."
   ]
  },
  {
   "cell_type": "code",
   "execution_count": null,
   "metadata": {
    "id": "RuEvl0JGov_8"
   },
   "outputs": [],
   "source": [
    "string_1 = \"a short string\"\n",
    "string_2 = \"a waaaaayyyyyyyy, way way WAY longer string\""
   ]
  },
  {
   "cell_type": "code",
   "execution_count": null,
   "metadata": {
    "id": "eSikxt2u-n1r"
   },
   "outputs": [],
   "source": []
  },
  {
   "cell_type": "markdown",
   "metadata": {
    "id": "C-z21FTVpTwi"
   },
   "source": [
    "5: Going back to your name, conver the variable full_name to be **all upper case**. This should write over the existing variable, so when you print out full_name, it should be all capitals."
   ]
  },
  {
   "cell_type": "code",
   "execution_count": null,
   "metadata": {
    "id": "EopcjC2kpfQb"
   },
   "outputs": [],
   "source": []
  },
  {
   "cell_type": "markdown",
   "metadata": {
    "id": "PYONPjxJpejZ"
   },
   "source": [
    "6: Replace all the vowels in your name, except O, with \"OOF\". Print your new full_name when you're done."
   ]
  },
  {
   "cell_type": "code",
   "execution_count": null,
   "metadata": {
    "id": "hsi3cGkwqONF"
   },
   "outputs": [],
   "source": []
  },
  {
   "cell_type": "markdown",
   "metadata": {
    "id": "4HwOFIUMswio"
   },
   "source": [
    "## [Exercises] Numeric Types"
   ]
  },
  {
   "cell_type": "markdown",
   "metadata": {
    "id": "namWICiEszoL"
   },
   "source": [
    "1: Create a float variable called my_float, and an int variable called my_int.\n",
    "\n",
    "Verify (through printing it out) that the variables you created are of the correct class."
   ]
  },
  {
   "cell_type": "code",
   "execution_count": null,
   "metadata": {
    "colab": {
     "base_uri": "https://localhost:8080/"
    },
    "id": "1ilLPcbPsy1l",
    "outputId": "9dd223ed-3c8b-4e8b-849f-23f7ec4d4cce"
   },
   "outputs": [],
   "source": []
  },
  {
   "cell_type": "markdown",
   "metadata": {
    "id": "EZFX1i2rt7KZ"
   },
   "source": [
    "2: Now, convert each of them to the opposite type. When you're done with this, my_float should be an int and my_int should be a float. Check the types again to verify this!"
   ]
  },
  {
   "cell_type": "code",
   "execution_count": null,
   "metadata": {
    "colab": {
     "base_uri": "https://localhost:8080/"
    },
    "id": "AJZVhGITuInc",
    "outputId": "68f17bcd-018c-4043-ca1f-96581649f17a"
   },
   "outputs": [],
   "source": []
  },
  {
   "cell_type": "markdown",
   "metadata": {
    "id": "T8AuQXZnuJPj"
   },
   "source": [
    "3: \"Magic birthday\" exercise:\n",
    "\n",
    "Start out by saving two new int variables: month (your birth month) and day (your birth day). For example, august 11th would be:\n",
    "\n",
    "```\n",
    "month = 8\n",
    "day = 11\n",
    "```\n",
    "\n",
    "We'll use these, and a sequence of operations, to arrive at a float representation of your birthday (i.e., 8.11 for August 11th).\n",
    "\n",
    "Now, do the following operations:\n",
    "- A: Multiply your \"month\" variable by 7\n",
    "- B: Subtract 1 from your result in A\n",
    "- C: Multiply your result in B times 13\n",
    "- D: Add your \"day\" variable to your result from C\n",
    "- DE: Add 3 to your result in D\n",
    "- E: Multiply your result in D by 11\n",
    "- F: Subtract \"month\" from your result in E\n",
    "- G: Subtract \"day\" from your result in F.\n",
    "- H: Divide your result in G by 10.\n",
    "- I: Add 11 to your result in H.\n",
    "- J: Divide your result in I by 100.\n",
    "\n",
    "You should now have the decimal representation of your birthday!\n",
    "\n",
    "(PS: It's totally fine to do this in multiple steps, but if you finish early, try to get it all into one line with parentheses!)\n",
    "\n"
   ]
  },
  {
   "cell_type": "code",
   "execution_count": null,
   "metadata": {
    "colab": {
     "base_uri": "https://localhost:8080/"
    },
    "id": "peEfi7fJuzbd",
    "outputId": "0060f398-e548-48db-ff5e-bfd11a6d8ea4"
   },
   "outputs": [],
   "source": []
  },
  {
   "cell_type": "markdown",
   "metadata": {
    "id": "u5zr3wpArPXR"
   },
   "source": [
    "## [Exercises] Boolean data type"
   ]
  },
  {
   "cell_type": "markdown",
   "metadata": {
    "id": "zFUHosqkrfYG"
   },
   "source": [
    "1: Create a new boolean variable, and check its type to make sure you've correctly made a boolean."
   ]
  },
  {
   "cell_type": "code",
   "execution_count": null,
   "metadata": {
    "colab": {
     "base_uri": "https://localhost:8080/"
    },
    "id": "fHZi5bW_rTOr",
    "outputId": "6ce56a55-f05d-4f2a-8bb8-3bf2428aed32"
   },
   "outputs": [],
   "source": [
    "my_bool = True\n",
    "print(type(my_bool))"
   ]
  },
  {
   "cell_type": "markdown",
   "metadata": {
    "id": "ahBVMi3jrpT9"
   },
   "source": [
    "2: Compare two numbers or strings to produce each of the following. The first one is done for you:\n",
    "- True using > or >=\n",
    "- False using > or >=\n",
    "- True using < or <=\n",
    "- False using < or <=\n",
    "- True using ==\n",
    "- False using ==\n",
    "- True using !=\n",
    "- False using !="
   ]
  },
  {
   "cell_type": "code",
   "execution_count": null,
   "metadata": {
    "colab": {
     "base_uri": "https://localhost:8080/"
    },
    "id": "lO1c8Op9r-Ef",
    "outputId": "69adde86-5243-428b-ecec-6a3aed351843"
   },
   "outputs": [],
   "source": [
    "print(\"True with > or >=\", 2 >= 2)"
   ]
  },
  {
   "cell_type": "markdown",
   "metadata": {
    "id": "BoaSIxNDfT7f"
   },
   "source": [
    "# Coercion"
   ]
  },
  {
   "cell_type": "markdown",
   "metadata": {
    "id": "JPF6tcWIe6A5"
   },
   "source": [
    "## [Exercises] Type coercion\n",
    "\n",
    "Produce each of the following using only mathematical operators (+, -, etc.,) type conversion functions ( ```str()``` , etc.) and the variables we provide for you ``` seven, five, ``` etc. Do not include any literal numbers, booleans, or strings of your own!\n",
    "\n",
    "(To clarify, if we asked you to produce the number ```10```, doing so by running ```five + five ``` is acceptable, but ```seven + 3``` or ```five*2``` is not. You should use _only_ the variables provided."
   ]
  },
  {
   "cell_type": "code",
   "execution_count": null,
   "metadata": {
    "id": "RDzIffB8e6H8"
   },
   "outputs": [],
   "source": [
    "seven = 7\n",
    "five = 5\n",
    "true = True\n",
    "false = False\n",
    "hello = \"hello\""
   ]
  },
  {
   "cell_type": "markdown",
   "metadata": {
    "id": "nQpSG2vHD6OB"
   },
   "source": [
    "1: ``` '57' ```"
   ]
  },
  {
   "cell_type": "code",
   "execution_count": null,
   "metadata": {
    "id": "ZJJRr7XXD9yE"
   },
   "outputs": [],
   "source": []
  },
  {
   "cell_type": "markdown",
   "metadata": {
    "id": "28dEQ1PSEAZd"
   },
   "source": [
    "2: ```57```"
   ]
  },
  {
   "cell_type": "code",
   "execution_count": null,
   "metadata": {
    "id": "myscyogPmnWO"
   },
   "outputs": [],
   "source": []
  },
  {
   "cell_type": "markdown",
   "metadata": {
    "id": "6ckpONAZEek9"
   },
   "source": [
    "3: ```'TrueFalse'```"
   ]
  },
  {
   "cell_type": "code",
   "execution_count": null,
   "metadata": {
    "id": "x6fy16_HD88x"
   },
   "outputs": [],
   "source": []
  },
  {
   "cell_type": "markdown",
   "metadata": {
    "id": "zZMBgLftECFT"
   },
   "source": [
    "4: ```'hello0'```\n",
    "\n",
    "\n"
   ]
  },
  {
   "cell_type": "code",
   "execution_count": null,
   "metadata": {
    "id": "R7K21WDYEMy-"
   },
   "outputs": [],
   "source": []
  },
  {
   "cell_type": "markdown",
   "metadata": {
    "id": "PWKHQVy2Eh0I"
   },
   "source": [
    "5: ```0```"
   ]
  },
  {
   "cell_type": "code",
   "execution_count": null,
   "metadata": {
    "id": "LP_GK7UYEoFl"
   },
   "outputs": [],
   "source": []
  },
  {
   "cell_type": "markdown",
   "metadata": {
    "id": "ohL-gLWNEUWg"
   },
   "source": [
    "6: ```9```\n",
    "\n",
    "(hint: you may need to use a boolean)"
   ]
  },
  {
   "cell_type": "code",
   "execution_count": null,
   "metadata": {
    "id": "QvyzLblNESUB"
   },
   "outputs": [],
   "source": []
  },
  {
   "cell_type": "markdown",
   "metadata": {
    "id": "hr2inenmEpvU"
   },
   "source": [
    "7: ```'hello3'```"
   ]
  },
  {
   "cell_type": "code",
   "execution_count": null,
   "metadata": {
    "id": "qS5CTXtmEo0P"
   },
   "outputs": [],
   "source": []
  },
  {
   "cell_type": "markdown",
   "metadata": {
    "id": "cgDJzQ3mfO4m"
   },
   "source": [
    "# Complex Data Types"
   ]
  },
  {
   "cell_type": "markdown",
   "metadata": {
    "id": "sSiz1mxxh40F"
   },
   "source": [
    "### [Exercises] Lists"
   ]
  },
  {
   "cell_type": "markdown",
   "metadata": {
    "id": "LWPJO1X3i56V"
   },
   "source": [
    "1: **List creation**\n",
    "Make a list, called my_favorites, that contains at least 5 of your favorite things.\n",
    "\n",
    "These can be movies, colors, foods, numbers (if you have favorite numbers), anything!\n",
    "\n",
    "Verify that you have correctly created a list by printing out its type.\n",
    "\n",
    "While you're at it, check the length of your array!"
   ]
  },
  {
   "cell_type": "code",
   "execution_count": null,
   "metadata": {
    "colab": {
     "base_uri": "https://localhost:8080/"
    },
    "id": "oN8SuCp9jLQ1",
    "outputId": "c5c2e5b3-e789-40ef-960d-6141b43244bc"
   },
   "outputs": [],
   "source": []
  },
  {
   "cell_type": "markdown",
   "metadata": {
    "id": "dWBQZUHvjNdR"
   },
   "source": [
    "2: **List indexing** - using the list ```scrambled_list```,  print the sentence \"the quick brown fox jumps over the lazy dog\", in order."
   ]
  },
  {
   "cell_type": "code",
   "execution_count": null,
   "metadata": {
    "colab": {
     "base_uri": "https://localhost:8080/"
    },
    "id": "UhR25lJpjfvK",
    "outputId": "4cc332c3-4c21-4527-ec83-9aa78934a4d3"
   },
   "outputs": [],
   "source": [
    "scrambled_list = [\"quick\", \"brown\", \"the\", \"jumps\", \"fox\", \"dog\", \"over\", \"lazy\"]"
   ]
  },
  {
   "cell_type": "markdown",
   "metadata": {
    "id": "aoUrt-vTje6w"
   },
   "source": [
    "3: **Slicing + concatenation**\n",
    "\n",
    "Using only one line of code, print out only\n",
    "\n",
    "```\n",
    "['banana', 'carrot', 'dorito', 'guava', 'hazelnut']\n",
    "```\n",
    "\n",
    "from the list ``` alphabet_foods ```"
   ]
  },
  {
   "cell_type": "code",
   "execution_count": null,
   "metadata": {
    "colab": {
     "base_uri": "https://localhost:8080/"
    },
    "id": "kF7GR9fdl756",
    "outputId": "68157aef-e101-40ef-f8b4-1899470d664b"
   },
   "outputs": [],
   "source": [
    "alphabet_foods = ['apple', 'banana', 'carrot', 'dorito', 'eggplant',\n",
    "                  'falafel', 'guava', 'hazelnut', 'idli']"
   ]
  },
  {
   "cell_type": "markdown",
   "metadata": {
    "id": "LKJ6c1KqmrhQ"
   },
   "source": [
    "4: **Addition and removal**\n",
    "\n",
    "Change the list below to match the following:\n",
    "\n",
    "```\n",
    "['today', 'was, 'a', 'very', 'good', 'day']\n",
    "```\n",
    "\n",
    "Use only the .append and .remove functions to do this, changing beginning_list into the above."
   ]
  },
  {
   "cell_type": "code",
   "execution_count": null,
   "metadata": {
    "colab": {
     "base_uri": "https://localhost:8080/"
    },
    "id": "iyPL-uutt8u_",
    "outputId": "01cfbdab-6ee5-4584-9653-dd804981f0b6"
   },
   "outputs": [],
   "source": [
    "beginning_list = ['today', 'was', 'a', 'not', 'very', 'bad', 'good']"
   ]
  },
  {
   "cell_type": "markdown",
   "metadata": {
    "id": "fXslpxdSuWzR"
   },
   "source": [
    "5: **Sorting**\n",
    "Sort the below list to be in forwards alphabetical order.\n",
    "\n",
    "We didn't cover this in this notebook—we want you to start learning how to find solutions to problems you haven't learned yet!\n",
    "\n",
    "Google is your friend here :)"
   ]
  },
  {
   "cell_type": "code",
   "execution_count": null,
   "metadata": {
    "colab": {
     "base_uri": "https://localhost:8080/"
    },
    "id": "IOuuC2uYuggD",
    "outputId": "5f954af1-87ac-4ff6-f185-eeb7aad33c11"
   },
   "outputs": [],
   "source": [
    "#Sort this:\n",
    "unsorted = ['xylophone', 'walrus', 'zebra', 'venus', 'yodel', 'a']"
   ]
  },
  {
   "cell_type": "code",
   "execution_count": null,
   "metadata": {
    "id": "RlyDoYc0f33f"
   },
   "outputs": [],
   "source": []
  },
  {
   "cell_type": "markdown",
   "metadata": {
    "id": "FBy8kzZI2WG4"
   },
   "source": [
    "### [Exercises] Dictionaries"
   ]
  },
  {
   "cell_type": "markdown",
   "metadata": {
    "id": "MPGm-j5z2awk"
   },
   "source": [
    "1: Create a dictionary mapping the codes of the classes you're currently enrolled in (keys) to the class titles (values).\n",
    "\n",
    "When you're done, print it out, and check the type to ensure you did this correctly.\n",
    "\n",
    "Look at our examples for syntax help!"
   ]
  },
  {
   "cell_type": "code",
   "execution_count": null,
   "metadata": {
    "id": "w--hqfKX2ZiZ"
   },
   "outputs": [],
   "source": [
    "my_dictionary = {\n",
    "    '3002':'Data Science Systems',\n",
    "    '3003':'Communicating with Data',\n",
    "    '3120':'Intro to Mathematical Statistics',\n",
    "    '3340':'Complex Variables',\n",
    "    '3630':'Chamber Ensemble'\n",
    "}"
   ]
  },
  {
   "cell_type": "markdown",
   "metadata": {
    "id": "wZzgthcU2nrD"
   },
   "source": [
    "2: **Use google** to find a function that will return the number of key-value pairs in your dictionary."
   ]
  },
  {
   "cell_type": "code",
   "execution_count": null,
   "metadata": {
    "id": "kGqe_QJC21Nh"
   },
   "outputs": [],
   "source": []
  },
  {
   "cell_type": "markdown",
   "metadata": {
    "id": "Y7LpDyyp21nW"
   },
   "source": [
    "3: Use the dictionary below to print out the city associated with the zip code 22904."
   ]
  },
  {
   "cell_type": "code",
   "execution_count": null,
   "metadata": {
    "id": "v6pJTPb43WzZ"
   },
   "outputs": [],
   "source": [
    "zip_dict = {\n",
    "    22903:'Charlottesville, VA',\n",
    "    15301:'Washington, PA',\n",
    "    15218:'Pittsburgh, PA',\n",
    "    22904:'Charlottesville, VA',\n",
    "}"
   ]
  },
  {
   "cell_type": "markdown",
   "metadata": {
    "id": "VG2NVE9b3sF3"
   },
   "source": [
    "4: Using only the dictionary below, print out \"data science is super fun\"."
   ]
  },
  {
   "cell_type": "code",
   "execution_count": null,
   "metadata": {
    "id": "hfZH2mfk320F"
   },
   "outputs": [],
   "source": [
    "four_dict = {\n",
    "    'last_word':'fun',\n",
    "    'middle_word':'is',\n",
    "    'first_word':'data',\n",
    "    'second_word':'science',\n",
    "    'fourth_word':'super'\n",
    "}"
   ]
  },
  {
   "cell_type": "markdown",
   "metadata": {
    "id": "8Nuq5oeM4FsM"
   },
   "source": [
    "5: Print out \"data science is super fun\" again. A bit harder this time - you'll need your list knowledge!"
   ]
  },
  {
   "cell_type": "code",
   "execution_count": null,
   "metadata": {
    "id": "xvgv5ifP4O9K"
   },
   "outputs": [],
   "source": [
    "five_dict = {\n",
    "    'first_list':['super', 'is'],\n",
    "    'other_list':['science', 'fun', 'data']\n",
    "}"
   ]
  },
  {
   "cell_type": "markdown",
   "metadata": {
    "id": "mlVlR9hB4XkH"
   },
   "source": [
    "6: Even harder: print out \"data science is super fun\" once more! Remember the methods we learned towards the end...."
   ]
  },
  {
   "cell_type": "code",
   "execution_count": null,
   "metadata": {
    "id": "AVvtoMTB4f4H"
   },
   "outputs": [],
   "source": [
    "six_dict = {\n",
    "    'fun':'what data is',\n",
    "    'science':'the S in stem',\n",
    "    'super':'prefix to hero',\n",
    "    'is':'most common present-tense verb',\n",
    "    'data':'literally everything'\n",
    "}"
   ]
  },
  {
   "cell_type": "markdown",
   "metadata": {
    "id": "n8mByqoZ5Ca_"
   },
   "source": [
    "7: Hardest yet: tie it all together! Print \"data science is super fun\" just _one_ more time! You'll need to use what you did in 4-6, _plus_ a bit more:\n",
    "\n",
    "(Hint: the item below, seven_list, isn't one dictionary - it's a **list of dictionaries!**)"
   ]
  },
  {
   "cell_type": "code",
   "execution_count": null,
   "metadata": {
    "id": "wWdWO0VU5VNi"
   },
   "outputs": [],
   "source": [
    "seven_list = [\n",
    "    {'what_data_is':'fun',\n",
    "     'how_fun_it_is':'super'},\n",
    "    {'topic_first_word':'data',\n",
    "     'verb':'is',\n",
    "     'topic_second_word':'science'}\n",
    "]"
   ]
  }
 ],
 "metadata": {
  "colab": {
   "collapsed_sections": [
    "jO2g_yIJv5sM"
   ],
   "provenance": []
  },
  "kernelspec": {
   "display_name": "Python 3 (ipykernel)",
   "language": "python",
   "name": "python3"
  },
  "language_info": {
   "codemirror_mode": {
    "name": "ipython",
    "version": 3
   },
   "file_extension": ".py",
   "mimetype": "text/x-python",
   "name": "python",
   "nbconvert_exporter": "python",
   "pygments_lexer": "ipython3",
   "version": "3.8.17"
  }
 },
 "nbformat": 4,
 "nbformat_minor": 4
}
