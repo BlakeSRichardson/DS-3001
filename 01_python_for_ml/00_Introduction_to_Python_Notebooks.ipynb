{
 "cells": [
  {
   "cell_type": "markdown",
   "id": "597bd4b2-f121-4b51-9c98-4f817cf95c77",
   "metadata": {},
   "source": [
    "# Overview of Python Notebook"
   ]
  },
  {
   "cell_type": "markdown",
   "id": "e573e088-f34b-470e-a7b7-1116c2e4b66e",
   "metadata": {},
   "source": [
    "## Subheader"
   ]
  },
  {
   "cell_type": "code",
   "execution_count": 2,
   "id": "8916aa66-1a93-44f2-b485-146d6d77532f",
   "metadata": {},
   "outputs": [],
   "source": [
    "import os"
   ]
  },
  {
   "cell_type": "code",
   "execution_count": 3,
   "id": "9e541d7a-a3a9-4477-b80e-23b3f4cdd147",
   "metadata": {},
   "outputs": [
    {
     "data": {
      "text/plain": [
       "'/Users/navya/Documents/GitHub/DS-3001/01_python_for_ml'"
      ]
     },
     "execution_count": 3,
     "metadata": {},
     "output_type": "execute_result"
    }
   ],
   "source": [
    "# Check our current working directory\n",
    "os.getcwd() "
   ]
  },
  {
   "cell_type": "markdown",
   "id": "3847230b-3e9c-497b-87da-30429a61d6f4",
   "metadata": {},
   "source": [
    "### Subsubheader "
   ]
  },
  {
   "cell_type": "code",
   "execution_count": 4,
   "id": "ea456457-b52a-4f3a-a730-693d7f4f96ac",
   "metadata": {},
   "outputs": [
    {
     "name": "stdout",
     "output_type": "stream",
     "text": [
      "01_python_primitive_data_structures.ipynb\n",
      "02_Lecture_Python (1).ipynb\n",
      "02_python_complex_data_structures.ipynb\n",
      "03_optional_exercises_data_structures.ipynb\n",
      "0_introduction_to_notebooks.ipynb\n",
      "dog_licenses.csv\n",
      "pandas_datatypes.png\n",
      "python_data_types.jpg\n"
     ]
    }
   ],
   "source": [
    "!ls"
   ]
  }
 ],
 "metadata": {
  "kernelspec": {
   "display_name": "Python 3 (ipykernel)",
   "language": "python",
   "name": "python3"
  },
  "language_info": {
   "codemirror_mode": {
    "name": "ipython",
    "version": 3
   },
   "file_extension": ".py",
   "mimetype": "text/x-python",
   "name": "python",
   "nbconvert_exporter": "python",
   "pygments_lexer": "ipython3",
   "version": "3.8.17"
  }
 },
 "nbformat": 4,
 "nbformat_minor": 5
}
