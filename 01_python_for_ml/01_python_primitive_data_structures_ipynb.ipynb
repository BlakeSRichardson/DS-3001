{
 "cells": [
  {
   "cell_type": "markdown",
   "metadata": {
    "id": "hr7vQmzi-MrE"
   },
   "source": [
    "# Primitive data types\n"
   ]
  },
  {
   "cell_type": "markdown",
   "metadata": {
    "id": "tQaeAIrBFwdW"
   },
   "source": [
    "## A: Strings"
   ]
  },
  {
   "cell_type": "markdown",
   "metadata": {
    "id": "7rDHaedOCIS9"
   },
   "source": [
    "Like any data type, we can save a string as a variable through the following syntax:\n",
    "\n",
    "var_name = \"our string\".\n",
    "\n",
    "Strings must be surrounded in one of the following quote patterns to be recognized by python as a string.\n",
    "\n",
    "- 'single quotes'\n",
    "- \"double quotes\"\n",
    "- '''triple single quotes'''\n",
    "- \"\"\"triple double quotes\"\"\""
   ]
  },
  {
   "cell_type": "code",
   "execution_count": 1,
   "metadata": {
    "id": "GT-ZwJCBVRI1"
   },
   "outputs": [],
   "source": [
    "# Let's try it out: (this is a comment! It starts with a #, and these lines are not run.)\n",
    "\n",
    "our_first_string = \"hello world!\""
   ]
  },
  {
   "cell_type": "markdown",
   "metadata": {
    "id": "i9g2cLMICn35"
   },
   "source": [
    "By default, notebook editors (like Google Colab or Jupyter Notebooks) will print out the last line run in a cell, so we can view the contents of our_first_string below:"
   ]
  },
  {
   "cell_type": "code",
   "execution_count": 2,
   "metadata": {
    "colab": {
     "base_uri": "https://localhost:8080/",
     "height": 41
    },
    "id": "9RWoWiqiRMX-",
    "outputId": "18215a9c-929c-432e-d922-befbec434266"
   },
   "outputs": [
    {
     "data": {
      "text/plain": [
       "'hello world!'"
      ]
     },
     "execution_count": 2,
     "metadata": {},
     "output_type": "execute_result"
    }
   ],
   "source": [
    "our_first_string"
   ]
  },
  {
   "cell_type": "code",
   "execution_count": 3,
   "metadata": {
    "colab": {
     "base_uri": "https://localhost:8080/"
    },
    "id": "PwmgXIi65IlU",
    "outputId": "b0d4d3eb-d76f-4bd0-966f-9415d451e57e"
   },
   "outputs": [
    {
     "name": "stdout",
     "output_type": "stream",
     "text": [
      "hello world!\n"
     ]
    }
   ],
   "source": [
    "print(our_first_string)"
   ]
  },
  {
   "cell_type": "markdown",
   "metadata": {
    "id": "JIt5vMgGCzJU"
   },
   "source": [
    "Great, we can see that we succesfully saved this as a variable. We can check the variable's type really easily in python using the type() function, like this."
   ]
  },
  {
   "cell_type": "code",
   "execution_count": 4,
   "metadata": {
    "colab": {
     "base_uri": "https://localhost:8080/"
    },
    "id": "YBl5ZrqeDcS-",
    "outputId": "c92a0e98-1d76-4038-ad7e-ccc78baccb2f"
   },
   "outputs": [
    {
     "data": {
      "text/plain": [
       "str"
      ]
     },
     "execution_count": 4,
     "metadata": {},
     "output_type": "execute_result"
    }
   ],
   "source": [
    "type(our_first_string)"
   ]
  },
  {
   "cell_type": "markdown",
   "metadata": {
    "id": "xpsR7VljDiAJ"
   },
   "source": [
    "What if we want to save and then print out multiple strings? We can't do this with the notebook's \"print last line\" capability alone, as you'll see below:"
   ]
  },
  {
   "cell_type": "code",
   "execution_count": 5,
   "metadata": {
    "colab": {
     "base_uri": "https://localhost:8080/",
     "height": 41
    },
    "id": "7YINnFZXDr3R",
    "outputId": "7796b414-bb58-4a9f-9805-3a73967f471e"
   },
   "outputs": [
    {
     "data": {
      "text/plain": [
       "'even more strings!'"
      ]
     },
     "execution_count": 5,
     "metadata": {},
     "output_type": "execute_result"
    }
   ],
   "source": [
    "our_second_string = \"another string\"\n",
    "our_third_string = \"even more strings!\"\n",
    "\n",
    "our_second_string\n",
    "our_third_string"
   ]
  },
  {
   "cell_type": "markdown",
   "metadata": {
    "id": "smnJvR00DzHH"
   },
   "source": [
    "Since it only wants to print the last line, we can use python's print() function to write out anything we want.\n",
    "\n",
    "This will be extremely useful for debugging more complex data processing and analysis later on."
   ]
  },
  {
   "cell_type": "code",
   "execution_count": 6,
   "metadata": {
    "colab": {
     "base_uri": "https://localhost:8080/"
    },
    "id": "eEEDvIEXFOj6",
    "outputId": "93a9e35b-77c9-414e-f380-5d5c143aaa8b"
   },
   "outputs": [
    {
     "name": "stdout",
     "output_type": "stream",
     "text": [
      "another string\n",
      "even more strings!\n",
      "4\n"
     ]
    }
   ],
   "source": [
    "print(our_second_string)\n",
    "print(our_third_string)\n",
    "print(2+2)"
   ]
  },
  {
   "cell_type": "markdown",
   "metadata": {
    "id": "7lH0JIUYFUD_"
   },
   "source": [
    "Important note: be aware of the difference between a VARIABLE (such as our_second_string) and just printing out a string of that name, like \"our_second_string\". See below:"
   ]
  },
  {
   "cell_type": "code",
   "execution_count": 7,
   "metadata": {
    "colab": {
     "base_uri": "https://localhost:8080/"
    },
    "id": "rEP7d_uiFgsS",
    "outputId": "b730bce0-c22b-4874-98ae-04e9f3f55a6a"
   },
   "outputs": [
    {
     "name": "stdout",
     "output_type": "stream",
     "text": [
      "another string\n",
      "our_second_string\n"
     ]
    }
   ],
   "source": [
    "print(our_second_string)\n",
    "print(\"our_second_string\")"
   ]
  },
  {
   "cell_type": "markdown",
   "metadata": {
    "id": "z0AvAHD2Fo52"
   },
   "source": [
    "### String operations and methods"
   ]
  },
  {
   "cell_type": "markdown",
   "metadata": {
    "id": "tys1VF1gFst6"
   },
   "source": [
    "We can **concatenate** strings together using the \"+\" operator. This is the same operator we'll use to add numbers together, but it's extremely useful for \"filling in the blanks\" of sentences based on data. See below!"
   ]
  },
  {
   "cell_type": "code",
   "execution_count": 8,
   "metadata": {
    "id": "paaeJmxZFq94"
   },
   "outputs": [],
   "source": [
    "uva_state = \"Virginia\"\n",
    "uva_city = \"Charlottesville\"\n",
    "uva_funding = \"public\"\n",
    "uva_size = \"sixteen thousand ish\""
   ]
  },
  {
   "cell_type": "code",
   "execution_count": 9,
   "metadata": {
    "id": "kWYYKfViIFvY"
   },
   "outputs": [],
   "source": [
    "uva_sentence = \"UVA is a \" + uva_funding + \" school in \" + uva_city + \", \" + uva_state + \" that has around \" + uva_size + \" undergraduate students. \""
   ]
  },
  {
   "cell_type": "code",
   "execution_count": 10,
   "metadata": {
    "colab": {
     "base_uri": "https://localhost:8080/"
    },
    "id": "W-Re4vLeIcxa",
    "outputId": "edc960b3-e6cc-44ac-b514-4a10160fcc49"
   },
   "outputs": [
    {
     "name": "stdout",
     "output_type": "stream",
     "text": [
      "UVA is a public school in Charlottesville, Virginia that has around sixteen thousand ish undergraduate students. \n"
     ]
    }
   ],
   "source": [
    "print(uva_sentence)"
   ]
  },
  {
   "cell_type": "markdown",
   "metadata": {
    "id": "Ej_ZPceKJOfx"
   },
   "source": [
    "We can also **multiply / duplicate strings** by multiplying them by an integer (we'll learn more about integers in a bit!)"
   ]
  },
  {
   "cell_type": "code",
   "execution_count": 11,
   "metadata": {
    "colab": {
     "base_uri": "https://localhost:8080/"
    },
    "id": "CWxnX0x2JXWe",
    "outputId": "ac0b498d-9b88-4ddd-e7fd-d0e094d3d5d8"
   },
   "outputs": [
    {
     "name": "stdout",
     "output_type": "stream",
     "text": [
      "threetimesthreetimesthreetimes\n",
      "threetimes threetimes threetimes \n"
     ]
    }
   ],
   "source": [
    "print(\"threetimes\"*3)\n",
    "\n",
    "three_times = \"threetimes \"\n",
    "print(three_times*3)"
   ]
  },
  {
   "cell_type": "markdown",
   "metadata": {
    "id": "2fbunWPSJi9-"
   },
   "source": [
    "It's often useful to know the LENGTH of a string, such as when checking the validity of a phone number string (\"XXX-XXX-XXXX\"), or checking for any unexpected empty strings (length of 0).\n",
    "\n",
    "We can do this easily with the len() function."
   ]
  },
  {
   "cell_type": "code",
   "execution_count": 12,
   "metadata": {
    "id": "OgCsDKfGJxOQ"
   },
   "outputs": [],
   "source": [
    "empty_string = \"\"\n",
    "short_string = \"hey\"\n",
    "long_string = \"hey there! how's it going?? what nice weather we're having :')\""
   ]
  },
  {
   "cell_type": "code",
   "execution_count": 13,
   "metadata": {
    "colab": {
     "base_uri": "https://localhost:8080/"
    },
    "id": "9ei9O64yJ7Cn",
    "outputId": "6e7dcb2a-2ae1-4571-ba75-5979ecb1b36e"
   },
   "outputs": [
    {
     "name": "stdout",
     "output_type": "stream",
     "text": [
      "0\n",
      "3\n",
      "62\n"
     ]
    }
   ],
   "source": [
    "print(len(empty_string))\n",
    "print(len(short_string))\n",
    "print(len(long_string))"
   ]
  },
  {
   "cell_type": "markdown",
   "metadata": {
    "id": "Nc4Liy5TJ6Pr"
   },
   "source": [
    "#### More string methods\n",
    "\n",
    "There are a wide variety of methods we can apply to our strings to alter them or perform certain \"checks\" on them, such as determining if the string is all numeric, all alphabetical, etc.\n",
    "\n",
    "Most important takeaway is that you should **NOT** memorize these.\n",
    "\n",
    "We'll show some examples below, but finding the full list is as simple as googling \"python string methods.\""
   ]
  },
  {
   "cell_type": "code",
   "execution_count": 14,
   "metadata": {
    "colab": {
     "base_uri": "https://localhost:8080/"
    },
    "id": "Enjt_jPJKwwn",
    "outputId": "d8de2562-5d06-4757-d420-29ef7170f36f"
   },
   "outputs": [
    {
     "name": "stdout",
     "output_type": "stream",
     "text": [
      "DS IS DATA SCIENCE\n",
      "ds is data science\n",
      "Ds Is Data Science\n",
      "Ds is data science\n"
     ]
    }
   ],
   "source": [
    "#Converting case.\n",
    "ds = \"dS is dAta sCIENCe\"\n",
    "\n",
    "print(ds.upper())\n",
    "print(ds.lower())\n",
    "print(ds.title())\n",
    "print(ds.capitalize())"
   ]
  },
  {
   "cell_type": "code",
   "execution_count": 15,
   "metadata": {
    "colab": {
     "base_uri": "https://localhost:8080/"
    },
    "id": "KHx9-XbsLXNh",
    "outputId": "f8bd76a8-fd5f-4aee-b5c7-3df0415d8087"
   },
   "outputs": [
    {
     "name": "stdout",
     "output_type": "stream",
     "text": [
      "Cool Kids Study Data Analysis\n"
     ]
    }
   ],
   "source": [
    "#Replacing certain parts of a string\n",
    "\n",
    "ds2 = \"Cool Kids Study Data Science\"\n",
    "print(ds2.replace(\"Science\", \"Analysis\"))"
   ]
  },
  {
   "cell_type": "code",
   "execution_count": 16,
   "metadata": {
    "colab": {
     "base_uri": "https://localhost:8080/"
    },
    "id": "yIUINMZ_4a3r",
    "outputId": "c12b216b-d816-45b5-b9ce-7c9d8d7e836b"
   },
   "outputs": [
    {
     "name": "stdout",
     "output_type": "stream",
     "text": [
      "Cool Kids Study Data \n"
     ]
    }
   ],
   "source": [
    "ds3 = \"Cool Kids Study Data Science\"\n",
    "print(ds3.replace(\"Science\", \"\"))"
   ]
  },
  {
   "cell_type": "markdown",
   "metadata": {
    "id": "3gqau5r2Lh6E"
   },
   "source": [
    "**Important note on string methods:***\n",
    "\n",
    "Most of these string methods and operations DO NOT change the original string! They simply return a COPY of that string, modified according to the method you specified.\n",
    "\n",
    "You can then save that new copy to a new variable, or save it over the original variable, if you want!"
   ]
  },
  {
   "cell_type": "code",
   "execution_count": 17,
   "metadata": {
    "colab": {
     "base_uri": "https://localhost:8080/",
     "height": 41
    },
    "id": "wlETcgv9Luny",
    "outputId": "44690db3-6e69-4af1-f42c-10fa637df0d6"
   },
   "outputs": [
    {
     "data": {
      "text/plain": [
       "'data is cool'"
      ]
     },
     "execution_count": 17,
     "metadata": {},
     "output_type": "execute_result"
    }
   ],
   "source": [
    "initial_var = \"data is cool\"\n",
    "\n",
    "#Converting to uppercase\n",
    "initial_var.upper()\n",
    "\n",
    "#Original variable isn't changed.\n",
    "initial_var"
   ]
  },
  {
   "cell_type": "code",
   "execution_count": 18,
   "metadata": {
    "colab": {
     "base_uri": "https://localhost:8080/"
    },
    "id": "4EXzRC37L4MY",
    "outputId": "c6e2374a-8a70-40e9-a235-264acdded24d"
   },
   "outputs": [
    {
     "name": "stdout",
     "output_type": "stream",
     "text": [
      "Initial: data is cool\n",
      "Modified: DATA IS COOL\n"
     ]
    }
   ],
   "source": [
    "#But, if we wanted to save the changed variable to a new variable:\n",
    "\n",
    "initial_var = \"data is cool\"\n",
    "\n",
    "modified_var = initial_var.upper()\n",
    "\n",
    "print(\"Initial: \" + initial_var)\n",
    "print(\"Modified: \" + modified_var)"
   ]
  },
  {
   "cell_type": "code",
   "execution_count": 19,
   "metadata": {
    "colab": {
     "base_uri": "https://localhost:8080/"
    },
    "id": "YW2B22NyMD07",
    "outputId": "359c8952-b4b7-4d21-958f-5e7f6068b2af"
   },
   "outputs": [
    {
     "name": "stdout",
     "output_type": "stream",
     "text": [
      "Initial, written over itself: DATA IS COOL\n"
     ]
    }
   ],
   "source": [
    "#If we want, we can even save over the original variable instead of creating a new one.\n",
    "initial_var = \"data is cool\"\n",
    "\n",
    "initial_var = initial_var.upper()\n",
    "\n",
    "print(\"Initial, written over itself: \" + initial_var)"
   ]
  },
  {
   "cell_type": "markdown",
   "metadata": {
    "id": "JXRt0UQYL3hm"
   },
   "source": [
    "## B: Numeric types (integers and floats)"
   ]
  },
  {
   "cell_type": "markdown",
   "metadata": {
    "id": "64QKOGdQRqdG"
   },
   "source": [
    "The \"int\" (integer) type is named pretty intuitively. These are numbers without any decimal values, and will be displayed and behave as such.\n"
   ]
  },
  {
   "cell_type": "code",
   "execution_count": 21,
   "metadata": {
    "colab": {
     "base_uri": "https://localhost:8080/"
    },
    "id": "83n1t6XWRMsm",
    "outputId": "e76f3a66-babb-4399-8b7b-bd1823c443a8"
   },
   "outputs": [
    {
     "name": "stdout",
     "output_type": "stream",
     "text": [
      "<class 'int'>\n"
     ]
    }
   ],
   "source": [
    "print(type(5))"
   ]
  },
  {
   "cell_type": "markdown",
   "metadata": {
    "id": "XEaEAH_fR5fw"
   },
   "source": [
    "For representing numbers with more specificity (i.e., decimal points are required), we use floating-point numbers, or the **float** data type."
   ]
  },
  {
   "cell_type": "code",
   "execution_count": 22,
   "metadata": {
    "colab": {
     "base_uri": "https://localhost:8080/"
    },
    "id": "IbsFKrUCR2Ew",
    "outputId": "58b329b6-df3b-4b98-9a10-8d4f4ae69b69"
   },
   "outputs": [
    {
     "name": "stdout",
     "output_type": "stream",
     "text": [
      "<class 'float'>\n"
     ]
    }
   ],
   "source": [
    "print(type(5.0))"
   ]
  },
  {
   "cell_type": "markdown",
   "metadata": {
    "id": "Ged0Oq7lSCeK"
   },
   "source": [
    "Notice that while the 'literal' syntax for representing a string involved placing it between quotes, int and float types cannot be between strings. If they are, they'll be represented by python as strings!"
   ]
  },
  {
   "cell_type": "code",
   "execution_count": 23,
   "metadata": {
    "colab": {
     "base_uri": "https://localhost:8080/"
    },
    "id": "f89xntKBSAzt",
    "outputId": "9cd72a39-e5e4-47f4-8db5-3b940ff9c6ed"
   },
   "outputs": [
    {
     "name": "stdout",
     "output_type": "stream",
     "text": [
      "<class 'str'>\n",
      "<class 'str'>\n"
     ]
    }
   ],
   "source": [
    "print(type(\"5\"))\n",
    "print(type(\"5.0\"))"
   ]
  },
  {
   "cell_type": "markdown",
   "metadata": {
    "id": "-FFyHx9xSdFL"
   },
   "source": [
    "### Operations with numeric types\n",
    "\n",
    "In python, we're able to utilize all the usual mathematical operators, plus a few you might not be as familiar with."
   ]
  },
  {
   "cell_type": "code",
   "execution_count": 24,
   "metadata": {
    "colab": {
     "base_uri": "https://localhost:8080/"
    },
    "id": "495SIBQ0SRnw",
    "outputId": "665b538b-ace2-4e10-b88a-e9a76cf74001"
   },
   "outputs": [
    {
     "name": "stdout",
     "output_type": "stream",
     "text": [
      "Addition: 7\n",
      "Multiplication: 10\n",
      "Subtraction: -3\n",
      "Division: 2.0\n"
     ]
    }
   ],
   "source": [
    "# Basic math with integer literals:\n",
    "print(\"Addition:\", 2 + 5)\n",
    "print(\"Multiplication:\", 2 * 5)\n",
    "print(\"Subtraction:\", 2 - 5)\n",
    "print(\"Division:\", 4 / 2)"
   ]
  },
  {
   "cell_type": "markdown",
   "metadata": {
    "id": "tdoNnFeZTP0C"
   },
   "source": [
    "Notice that while adding, multiplying, and subtracting integers returns an integer back, DIVISION by integers always returns a float, even if that float could've been represented as an an integer! (Like 2.0, in this case.)\n",
    "\n",
    "We'll see why this is important in a minute."
   ]
  },
  {
   "cell_type": "code",
   "execution_count": 25,
   "metadata": {
    "colab": {
     "base_uri": "https://localhost:8080/"
    },
    "id": "2N6hWpYsTDIT",
    "outputId": "003a228b-66f9-4e07-fc73-2615870a06f7"
   },
   "outputs": [
    {
     "name": "stdout",
     "output_type": "stream",
     "text": [
      "Addition: 7.0\n",
      "Multiplication: 10.0\n",
      "Subtraction: -3.0\n",
      "Division: 3.0\n"
     ]
    }
   ],
   "source": [
    "# Basic math with float literals:\n",
    "print(\"Addition:\", 2.5 + 4.5)\n",
    "print(\"Multiplication:\", 2.0 * 5.0)\n",
    "print(\"Subtraction:\", 2.0 - 5.0)\n",
    "print(\"Division:\",4.5 / 1.5)"
   ]
  },
  {
   "cell_type": "markdown",
   "metadata": {
    "id": "Z9Ca7y5iTn69"
   },
   "source": [
    "All of these operations between two floats return floats.\n",
    "\n",
    "Some additional (surprisingly useful) mathematical opeartors:"
   ]
  },
  {
   "cell_type": "code",
   "execution_count": 26,
   "metadata": {
    "colab": {
     "base_uri": "https://localhost:8080/"
    },
    "id": "LOEzOmuHTm5K",
    "outputId": "38416a3a-79c3-4b9d-ef2f-8bd5d538386c"
   },
   "outputs": [
    {
     "name": "stdout",
     "output_type": "stream",
     "text": [
      "Exponentiation: 3 to the power of 4 is 81\n",
      "Modulo, or remainder: remainder of 4 / 3 is 1\n",
      "Floor, or integer division: 7/2, rounded DOWN to the nearest integer, is 3\n"
     ]
    }
   ],
   "source": [
    "print(\"Exponentiation: 3 to the power of 4 is\", 3 ** 4)\n",
    "print(\"Modulo, or remainder: remainder of 4 / 3 is\", 4 % 3)\n",
    "print(\"Floor, or integer division: 7/2, rounded DOWN to the nearest integer, is\", 7//2)"
   ]
  },
  {
   "cell_type": "markdown",
   "metadata": {
    "id": "wU-xaRlvMglO"
   },
   "source": [
    "Python is smart enough to apply PEMDAS within individual lines."
   ]
  },
  {
   "cell_type": "markdown",
   "metadata": {
    "id": "YSSiEy2nMkNY"
   },
   "source": [
    "Including parentheses, when they're used!"
   ]
  },
  {
   "cell_type": "code",
   "execution_count": 27,
   "metadata": {
    "colab": {
     "base_uri": "https://localhost:8080/"
    },
    "id": "JlHtVx2XM0Ao",
    "outputId": "1ea7591f-ad0f-4fd5-b89c-56fab713d551"
   },
   "outputs": [
    {
     "name": "stdout",
     "output_type": "stream",
     "text": [
      "17\n",
      "25\n"
     ]
    }
   ],
   "source": [
    "print(2+3*5)\n",
    "print((2+3)*5)"
   ]
  },
  {
   "cell_type": "markdown",
   "metadata": {
    "id": "fr9vJ_iltDwS"
   },
   "source": [
    "Additionally, using int() and float() we can convert back and forth bewteen these types.\n",
    "\n",
    "Note that converting a float to an int will always round it **down** to the nearest whole number. This is not the typical rounding behavior you'd expect!"
   ]
  },
  {
   "cell_type": "code",
   "execution_count": 28,
   "metadata": {
    "colab": {
     "base_uri": "https://localhost:8080/"
    },
    "id": "3NYY0bhmtREr",
    "outputId": "0e4bee45-fec8-4a6b-e29c-3e6ca5f34057"
   },
   "outputs": [
    {
     "name": "stdout",
     "output_type": "stream",
     "text": [
      "2.0\n",
      "3\n"
     ]
    }
   ],
   "source": [
    "print(float(2))\n",
    "\n",
    "print(int(3.99999999999))"
   ]
  },
  {
   "cell_type": "markdown",
   "metadata": {
    "id": "R4yJb1w_Cu6X"
   },
   "source": [
    "## C: Booleans (type: bool)\n",
    "\n",
    "The boolean datatype is interesting in that it only has two possible values, True and False.\n",
    "\n",
    "In python, booleans are expressed with capital letters. Using all lowercase will cause an error."
   ]
  },
  {
   "cell_type": "code",
   "execution_count": 32,
   "metadata": {
    "id": "sSCe4veLT2ST"
   },
   "outputs": [],
   "source": [
    "our_first_boolean = True\n",
    "our_second_boolean = False"
   ]
  },
  {
   "cell_type": "code",
   "execution_count": 33,
   "metadata": {
    "colab": {
     "base_uri": "https://localhost:8080/"
    },
    "id": "r0s4x99oLosf",
    "outputId": "7a717703-ed13-4fb8-961d-658368cf6d64"
   },
   "outputs": [
    {
     "name": "stdout",
     "output_type": "stream",
     "text": [
      "<class 'bool'>\n"
     ]
    }
   ],
   "source": [
    "print(type(our_first_boolean))"
   ]
  },
  {
   "cell_type": "code",
   "execution_count": 34,
   "metadata": {
    "id": "Lpkd9Bd3LqyU"
   },
   "outputs": [],
   "source": [
    "# Capitalization matters!\n",
    "true = True\n",
    "failed_boolean = true"
   ]
  },
  {
   "cell_type": "markdown",
   "metadata": {
    "id": "Z1Xx9yrHNDFW"
   },
   "source": [
    "Booleans most commonly arise as a result of comparing two other variables or data points.\n",
    "\n",
    "To do so, we can use the following operators:\n",
    "- == (to determine equality — NOT =!)\n",
    "- \\> or >=\n",
    "- < or <=\n",
    "- != (not equals)"
   ]
  },
  {
   "cell_type": "code",
   "execution_count": 35,
   "metadata": {
    "colab": {
     "base_uri": "https://localhost:8080/"
    },
    "id": "7HERA0NgLxlT",
    "outputId": "3c764983-df85-41ac-975b-03ced2e1585d"
   },
   "outputs": [
    {
     "name": "stdout",
     "output_type": "stream",
     "text": [
      "False\n",
      "True\n",
      "False\n"
     ]
    }
   ],
   "source": [
    "# These return booleans:\n",
    "print(\"hello\" == \"Hello\")\n",
    "print(2 >= 1.98)\n",
    "var1 = True\n",
    "var2 = False\n",
    "print(var1 == var2)"
   ]
  },
  {
   "cell_type": "markdown",
   "metadata": {
    "id": "gjyQEmlMNdBC"
   },
   "source": [
    "# Type coercion\n",
    "\n",
    "...and a bunch of common pitfalls in python coding and data manipulation!\n",
    "\n",
    "\n",
    "Python is pretty good at converting data from one type to the appropriate value of another type. This is especially useful in cases where we have, say, a string representation where we really want a number."
   ]
  },
  {
   "cell_type": "code",
   "execution_count": 38,
   "metadata": {
    "colab": {
     "base_uri": "https://localhost:8080/"
    },
    "id": "nUEI_-QqNWkw",
    "outputId": "91d10962-a270-4b75-952c-f0ca104c40c1"
   },
   "outputs": [
    {
     "name": "stdout",
     "output_type": "stream",
     "text": [
      "26\n",
      "25252525\n"
     ]
    }
   ],
   "source": [
    "# This won't give us what we want...\n",
    "print('2' + '6')\n",
    "print('25'* 4)"
   ]
  },
  {
   "cell_type": "code",
   "execution_count": 39,
   "metadata": {
    "colab": {
     "base_uri": "https://localhost:8080/"
    },
    "id": "xtBKDOMRNkDl",
    "outputId": "5579b06b-2b35-4e19-c90b-ab41f69b621c"
   },
   "outputs": [
    {
     "name": "stdout",
     "output_type": "stream",
     "text": [
      "8\n"
     ]
    }
   ],
   "source": [
    " # ...so we can cast these strings to numeric types, like int!\n",
    "print(int('2') + int('6'))"
   ]
  },
  {
   "cell_type": "code",
   "execution_count": 40,
   "metadata": {
    "colab": {
     "base_uri": "https://localhost:8080/"
    },
    "id": "njRI3JaRdKfV",
    "outputId": "82b86aea-bcd6-41ce-bb58-971056c87041"
   },
   "outputs": [
    {
     "name": "stdout",
     "output_type": "stream",
     "text": [
      "2.73.3\n",
      "6.0\n"
     ]
    }
   ],
   "source": [
    "# Same with floats, where appropriate.\n",
    "\n",
    "# Instead of this:\n",
    "print('2.7' + '3.3')\n",
    "\n",
    "# ...do this.\n",
    "print(float(\"2.7\") + float(\"3.3\"))"
   ]
  },
  {
   "cell_type": "markdown",
   "metadata": {
    "id": "z110w4shdag5"
   },
   "source": [
    "This can also go back the other way, from an int or float to a string.\n",
    "\n",
    "This is especially helpful when you need to concatenate numbers to strings, like below:"
   ]
  },
  {
   "cell_type": "code",
   "execution_count": 41,
   "metadata": {
    "id": "EtJ1W9P8dYet"
   },
   "outputs": [],
   "source": [
    "phil_age = 30\n",
    "phil_street = \"Maple Drive\"\n",
    "phil_house_number = 1234"
   ]
  },
  {
   "cell_type": "code",
   "execution_count": 42,
   "metadata": {
    "colab": {
     "base_uri": "https://localhost:8080/",
     "height": 159
    },
    "id": "nM2aL89UedRv",
    "outputId": "78993dc6-5692-426d-e784-bcb89cc0966e"
   },
   "outputs": [
    {
     "ename": "TypeError",
     "evalue": "can only concatenate str (not \"int\") to str",
     "output_type": "error",
     "traceback": [
      "\u001b[0;31m---------------------------------------------------------------------------\u001b[0m",
      "\u001b[0;31mTypeError\u001b[0m                                 Traceback (most recent call last)",
      "Cell \u001b[0;32mIn[42], line 2\u001b[0m\n\u001b[1;32m      1\u001b[0m \u001b[38;5;66;03m# This will throw an error, since python doesn't automatically convert the numbers to strings.\u001b[39;00m\n\u001b[0;32m----> 2\u001b[0m \u001b[38;5;28mprint\u001b[39m(\u001b[38;5;124;43m\"\u001b[39;49m\u001b[38;5;124;43mPhil is \u001b[39;49m\u001b[38;5;124;43m\"\u001b[39;49m\u001b[43m \u001b[49m\u001b[38;5;241;43m+\u001b[39;49m\u001b[43m \u001b[49m\u001b[43mphil_age\u001b[49m \u001b[38;5;241m+\u001b[39m \u001b[38;5;124m\"\u001b[39m\u001b[38;5;124m years old and lives on \u001b[39m\u001b[38;5;124m\"\u001b[39m \u001b[38;5;241m+\u001b[39m phil_house_number \u001b[38;5;241m+\u001b[39m phil_street)\n",
      "\u001b[0;31mTypeError\u001b[0m: can only concatenate str (not \"int\") to str"
     ]
    }
   ],
   "source": [
    "# This will throw an error, since python doesn't automatically convert the numbers to strings.\n",
    "print(\"Phil is \" + phil_age + \" years old and lives on \" + phil_house_number + phil_street)"
   ]
  },
  {
   "cell_type": "markdown",
   "metadata": {
    "id": "3R7lnBR-epdD"
   },
   "source": [
    "That error message was pretty informative! Let's fix it through casting the numbers to string with str(number):"
   ]
  },
  {
   "cell_type": "code",
   "execution_count": 43,
   "metadata": {
    "id": "qLJThNVHessn"
   },
   "outputs": [
    {
     "name": "stdout",
     "output_type": "stream",
     "text": [
      "Phil is 30 years old and lives on 1234 Maple Drive\n"
     ]
    }
   ],
   "source": [
    "# This will throw an error, since python doesn't automatically conver the numbers to strings.\n",
    "print(\"Phil is \" + str(phil_age) + \" years old and lives on \" + str(phil_house_number) +\" \"+ phil_street)"
   ]
  },
  {
   "cell_type": "markdown",
   "metadata": {
    "id": "FqBsrj76dkTY"
   },
   "source": [
    "Booleans also have the numerical and string equivalents that you might expect."
   ]
  },
  {
   "cell_type": "code",
   "execution_count": 44,
   "metadata": {
    "id": "8fAvV_LHe4tf"
   },
   "outputs": [
    {
     "name": "stdout",
     "output_type": "stream",
     "text": [
      "1\n",
      "0\n",
      "True\n",
      "False\n"
     ]
    }
   ],
   "source": [
    "print(int(True)) #1 for true\n",
    "print(int(False)) #0 for false\n",
    "\n",
    "print(str(True))\n",
    "print(str(False))"
   ]
  },
  {
   "cell_type": "code",
   "execution_count": 45,
   "metadata": {
    "id": "_rk__PXESBCn"
   },
   "outputs": [
    {
     "name": "stdout",
     "output_type": "stream",
     "text": [
      "6\n"
     ]
    }
   ],
   "source": [
    "print((True + True + True)*2 + False )"
   ]
  }
 ],
 "metadata": {
  "colab": {
   "collapsed_sections": [
    "jO2g_yIJv5sM"
   ],
   "provenance": []
  },
  "kernelspec": {
   "display_name": "Python 3 (ipykernel)",
   "language": "python",
   "name": "python3"
  },
  "language_info": {
   "codemirror_mode": {
    "name": "ipython",
    "version": 3
   },
   "file_extension": ".py",
   "mimetype": "text/x-python",
   "name": "python",
   "nbconvert_exporter": "python",
   "pygments_lexer": "ipython3",
   "version": "3.8.17"
  }
 },
 "nbformat": 4,
 "nbformat_minor": 4
}
